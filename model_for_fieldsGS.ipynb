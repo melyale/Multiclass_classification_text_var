{
 "cells": [
  {
   "cell_type": "code",
   "execution_count": 6,
   "id": "2e458fde",
   "metadata": {
    "scrolled": true
   },
   "outputs": [
    {
     "name": "stdout",
     "output_type": "stream",
     "text": [
      "(141776, 12)\n",
      "(85066, 12)\n"
     ]
    },
    {
     "data": {
      "text/html": [
       "<div>\n",
       "<style scoped>\n",
       "    .dataframe tbody tr th:only-of-type {\n",
       "        vertical-align: middle;\n",
       "    }\n",
       "\n",
       "    .dataframe tbody tr th {\n",
       "        vertical-align: top;\n",
       "    }\n",
       "\n",
       "    .dataframe thead th {\n",
       "        text-align: right;\n",
       "    }\n",
       "</style>\n",
       "<table border=\"1\" class=\"dataframe\">\n",
       "  <thead>\n",
       "    <tr style=\"text-align: right;\">\n",
       "      <th></th>\n",
       "      <th>pubyear</th>\n",
       "      <th>pubjournal</th>\n",
       "      <th>pubtitle</th>\n",
       "      <th>econfield</th>\n",
       "      <th>field2</th>\n",
       "      <th>field_1</th>\n",
       "      <th>field_2</th>\n",
       "      <th>field_3</th>\n",
       "      <th>field_4</th>\n",
       "      <th>field_5</th>\n",
       "      <th>field_6</th>\n",
       "      <th>field2str</th>\n",
       "    </tr>\n",
       "  </thead>\n",
       "  <tbody>\n",
       "    <tr>\n",
       "      <th>37892</th>\n",
       "      <td>2019</td>\n",
       "      <td>vanderbilt university department of economics</td>\n",
       "      <td>economic implications of new technologies for ...</td>\n",
       "      <td>Theory</td>\n",
       "      <td>Theory</td>\n",
       "      <td>otherf</td>\n",
       "      <td>otherf</td>\n",
       "      <td>otherf</td>\n",
       "      <td>theory</td>\n",
       "      <td>otherf</td>\n",
       "      <td>otherf</td>\n",
       "      <td>theory</td>\n",
       "    </tr>\n",
       "    <tr>\n",
       "      <th>73413</th>\n",
       "      <td>2009</td>\n",
       "      <td>university of chicago press</td>\n",
       "      <td>making the grade: the economic evolution of am...</td>\n",
       "      <td>Public economics</td>\n",
       "      <td>Applied micro</td>\n",
       "      <td>otherf</td>\n",
       "      <td>otherf</td>\n",
       "      <td>apmicro</td>\n",
       "      <td>otherf</td>\n",
       "      <td>otherf</td>\n",
       "      <td>otherf</td>\n",
       "      <td>applied micro</td>\n",
       "    </tr>\n",
       "    <tr>\n",
       "      <th>68591</th>\n",
       "      <td>2017</td>\n",
       "      <td>journal of financial and quantitative analysis</td>\n",
       "      <td>key human capital</td>\n",
       "      <td>Business and finance</td>\n",
       "      <td>Business and finance</td>\n",
       "      <td>otherf</td>\n",
       "      <td>otherf</td>\n",
       "      <td>otherf</td>\n",
       "      <td>otherf</td>\n",
       "      <td>busfin</td>\n",
       "      <td>otherf</td>\n",
       "      <td>business and finance</td>\n",
       "    </tr>\n",
       "    <tr>\n",
       "      <th>2370</th>\n",
       "      <td>1999</td>\n",
       "      <td>columbia university working paper</td>\n",
       "      <td>a carbon sequestration supply function and dev...</td>\n",
       "      <td>Development economics</td>\n",
       "      <td>Applied micro</td>\n",
       "      <td>otherf</td>\n",
       "      <td>otherf</td>\n",
       "      <td>apmicro</td>\n",
       "      <td>otherf</td>\n",
       "      <td>otherf</td>\n",
       "      <td>otherf</td>\n",
       "      <td>applied micro</td>\n",
       "    </tr>\n",
       "    <tr>\n",
       "      <th>131517</th>\n",
       "      <td>2002</td>\n",
       "      <td>southern economic journal</td>\n",
       "      <td>transaction costs and the present value\" puzzl...</td>\n",
       "      <td>Agricultural and environment</td>\n",
       "      <td>Applied micro</td>\n",
       "      <td>otherf</td>\n",
       "      <td>otherf</td>\n",
       "      <td>apmicro</td>\n",
       "      <td>otherf</td>\n",
       "      <td>otherf</td>\n",
       "      <td>otherf</td>\n",
       "      <td>applied micro</td>\n",
       "    </tr>\n",
       "  </tbody>\n",
       "</table>\n",
       "</div>"
      ],
      "text/plain": [
       "        pubyear                                      pubjournal  \\\n",
       "37892      2019   vanderbilt university department of economics   \n",
       "73413      2009                     university of chicago press   \n",
       "68591      2017  journal of financial and quantitative analysis   \n",
       "2370       1999               columbia university working paper   \n",
       "131517     2002                       southern economic journal   \n",
       "\n",
       "                                                 pubtitle  \\\n",
       "37892   economic implications of new technologies for ...   \n",
       "73413   making the grade: the economic evolution of am...   \n",
       "68591                                   key human capital   \n",
       "2370    a carbon sequestration supply function and dev...   \n",
       "131517  transaction costs and the present value\" puzzl...   \n",
       "\n",
       "                           econfield                field2 field_1 field_2  \\\n",
       "37892                         Theory                Theory  otherf  otherf   \n",
       "73413               Public economics         Applied micro  otherf  otherf   \n",
       "68591           Business and finance  Business and finance  otherf  otherf   \n",
       "2370           Development economics         Applied micro  otherf  otherf   \n",
       "131517  Agricultural and environment         Applied micro  otherf  otherf   \n",
       "\n",
       "        field_3 field_4 field_5 field_6             field2str  \n",
       "37892    otherf  theory  otherf  otherf                theory  \n",
       "73413   apmicro  otherf  otherf  otherf         applied micro  \n",
       "68591    otherf  otherf  busfin  otherf  business and finance  \n",
       "2370    apmicro  otherf  otherf  otherf         applied micro  \n",
       "131517  apmicro  otherf  otherf  otherf         applied micro  "
      ]
     },
     "execution_count": 6,
     "metadata": {},
     "output_type": "execute_result"
    }
   ],
   "source": [
    "#Example of multiclass prediction using text variables\n",
    "# https://towardsdatascience.com/multi-class-text-classification-with-scikit-learn-12f1e60e0a9f\n",
    "import pandas as pd\n",
    "import numpy as np\n",
    "df1 = pd.read_csv('C:/Users/melyg/Desktop/Networks/Data/fields_for_model_repec.csv')\n",
    "print(df1.shape)\n",
    "df = df1.sample(frac =.6)\n",
    "print(df.shape)\n",
    "df.head()"
   ]
  },
  {
   "cell_type": "code",
   "execution_count": 7,
   "id": "24658040",
   "metadata": {},
   "outputs": [
    {
     "data": {
      "text/html": [
       "<div>\n",
       "<style scoped>\n",
       "    .dataframe tbody tr th:only-of-type {\n",
       "        vertical-align: middle;\n",
       "    }\n",
       "\n",
       "    .dataframe tbody tr th {\n",
       "        vertical-align: top;\n",
       "    }\n",
       "\n",
       "    .dataframe thead th {\n",
       "        text-align: right;\n",
       "    }\n",
       "</style>\n",
       "<table border=\"1\" class=\"dataframe\">\n",
       "  <thead>\n",
       "    <tr style=\"text-align: right;\">\n",
       "      <th></th>\n",
       "      <th>field2str</th>\n",
       "      <th>pubjournal</th>\n",
       "      <th>pubtitle</th>\n",
       "      <th>category_id</th>\n",
       "    </tr>\n",
       "  </thead>\n",
       "  <tbody>\n",
       "    <tr>\n",
       "      <th>49897</th>\n",
       "      <td>macroeconomics</td>\n",
       "      <td>available at ssrn</td>\n",
       "      <td>fluctuations in economic uncertainty and trans...</td>\n",
       "      <td>3</td>\n",
       "    </tr>\n",
       "    <tr>\n",
       "      <th>30890</th>\n",
       "      <td>applied micro</td>\n",
       "      <td>bjep monograph series ii number development an...</td>\n",
       "      <td>developmental regulation across the life span:...</td>\n",
       "      <td>1</td>\n",
       "    </tr>\n",
       "    <tr>\n",
       "      <th>7025</th>\n",
       "      <td>applied micro</td>\n",
       "      <td>information economics and policy</td>\n",
       "      <td>access pricing with unregulated downstream com...</td>\n",
       "      <td>1</td>\n",
       "    </tr>\n",
       "    <tr>\n",
       "      <th>13319</th>\n",
       "      <td>applied micro</td>\n",
       "      <td>rand corporation www rand orgcontentdamrandpub...</td>\n",
       "      <td>assessing alternative modifications to the aff...</td>\n",
       "      <td>1</td>\n",
       "    </tr>\n",
       "    <tr>\n",
       "      <th>68223</th>\n",
       "      <td>applied micro</td>\n",
       "      <td>measuring wealth and financial intermediation ...</td>\n",
       "      <td>jorgenson, dw, 136, 137n8, 145</td>\n",
       "      <td>1</td>\n",
       "    </tr>\n",
       "  </tbody>\n",
       "</table>\n",
       "</div>"
      ],
      "text/plain": [
       "            field2str                                         pubjournal  \\\n",
       "49897  macroeconomics                                  available at ssrn   \n",
       "30890   applied micro  bjep monograph series ii number development an...   \n",
       "7025    applied micro                   information economics and policy   \n",
       "13319   applied micro  rand corporation www rand orgcontentdamrandpub...   \n",
       "68223   applied micro  measuring wealth and financial intermediation ...   \n",
       "\n",
       "                                                pubtitle  category_id  \n",
       "49897  fluctuations in economic uncertainty and trans...            3  \n",
       "30890  developmental regulation across the life span:...            1  \n",
       "7025   access pricing with unregulated downstream com...            1  \n",
       "13319  assessing alternative modifications to the aff...            1  \n",
       "68223                     jorgenson, dw, 136, 137n8, 145            1  "
      ]
     },
     "execution_count": 7,
     "metadata": {},
     "output_type": "execute_result"
    }
   ],
   "source": [
    "#We need only two columns, cleaning and dictionaries\n",
    "from io import StringIO\n",
    "\n",
    "col = ['field2str','pubjournal', 'pubtitle']\n",
    "df = df[col]\n",
    "df = df[pd.notnull(df['pubtitle'])] #removes null values\n",
    "df = df[pd.notnull(df['pubjournal'])] #removes null values\n",
    "df.columns = ['field2str', 'pubjournal', 'pubtitle']\n",
    "df['category_id'] = df['field2str'].factorize()[0] #Assigns a number to categories starting at zero\n",
    "category_id_df = df[['field2str', 'category_id']].drop_duplicates().sort_values('category_id') #Descriptive table of number of categories and number of cases\n",
    "category_to_id = dict(category_id_df.values) #dictionary of categories\n",
    "id_to_category = dict(category_id_df[['category_id', 'field2str']].values)  #dictionary of categories\n",
    "df.tail()"
   ]
  },
  {
   "cell_type": "code",
   "execution_count": 8,
   "id": "5445dd7a",
   "metadata": {},
   "outputs": [
    {
     "name": "stdout",
     "output_type": "stream",
     "text": [
      "(array([0, 1, 2, 3, 4, 5], dtype=int64), array([ 3436, 44580,  6186, 22781,  4848,  3235], dtype=int64))\n",
      "1    44580\n",
      "3    22781\n",
      "2     6186\n",
      "4     4848\n",
      "0     3436\n",
      "5     3235\n",
      "Name: category_id, dtype: int64\n"
     ]
    }
   ],
   "source": [
    "#Checking \n",
    "array = df['category_id'].to_numpy()\n",
    "print(np.unique(array, return_counts=True))\n",
    "frequency = df.category_id.value_counts()\n",
    "print(frequency)"
   ]
  },
  {
   "cell_type": "code",
   "execution_count": 4,
   "id": "9cb76cd2",
   "metadata": {},
   "outputs": [
    {
     "data": {
      "image/png": "[encoded data removed]",
      "text/plain": [
       "<Figure size 800x600 with 1 Axes>"
      ]
     },
     "metadata": {},
     "output_type": "display_data"
    }
   ],
   "source": [
    "#Imbalanced clases (visualization)\n",
    "import matplotlib.pyplot as plt\n",
    "fig = plt.figure(figsize=(8,6))\n",
    "df.groupby('field2str').pubtitle.count().plot.bar(ylim=0)\n",
    "plt.show()"
   ]
  },
  {
   "cell_type": "code",
   "execution_count": 9,
   "id": "0c1a62e7",
   "metadata": {},
   "outputs": [
    {
     "name": "stdout",
     "output_type": "stream",
     "text": [
      "(85066, 21118)\n"
     ]
    }
   ],
   "source": [
    "#Text representation: texts are converted to a more manageable representation\n",
    "#Use the bag of words model: a model where for each document (text var) the presence (and often the frequency) of words is taken into consideration, but the order in which they occur is ignored\n",
    "#we will calculate a measure called Term Frequency, Inverse Document Frequency, abbreviated to tf-idf using \"sklearn.feature_extraction.text.TfidfVectorizer\"\n",
    "\n",
    "# sublinear_df is set to True to use a logarithmic form for frequency.\n",
    "# min_df is the minimum numbers of documents a word must be present in to be kept.\n",
    "# norm is set to l2, to ensure all our feature vectors have a euclidian norm of 1.\n",
    "# ngram_range is set to (1, 2) to indicate that we want to consider both unigrams and bigrams.\n",
    "# stop_words is set to \"english\" to remove all common pronouns (\"a\", \"the\", ...) to reduce the number of noisy features.\n",
    "\n",
    "from sklearn.feature_extraction.text import TfidfVectorizer\n",
    "tfidf = TfidfVectorizer(sublinear_tf=True, min_df=5, norm='l2', encoding='latin-1', ngram_range=(1, 2), stop_words='english')\n",
    "features1 = tfidf.fit_transform(df.pubtitle).toarray()\n",
    "labels = array\n",
    "print(features1.shape)\n",
    "del array\n"
   ]
  },
  {
   "cell_type": "code",
   "execution_count": null,
   "id": "d8bbf976",
   "metadata": {},
   "outputs": [],
   "source": [
    "#We can use sklearn.feature_selection.chi2 to find the terms that are the most correlated with each of the products\n",
    "from sklearn.feature_selection import chi2\n",
    "import numpy as np\n",
    "N = 2\n",
    "for field2str, category_id in sorted(category_to_id.items()):\n",
    "  features_chi2_1 = chi2(features1, labels == category_id)\n",
    "  indices_1 = np.argsort(features_chi2_1[0])\n",
    "  feature_names_1 = np.array(tfidf.get_feature_names_out())[indices_1]\n",
    "  unigrams_1 = [v for v in feature_names_1 if len(v.split(' ')) == 1]\n",
    "  bigrams_1 = [v for v in feature_names_1 if len(v.split(' ')) == 2]\n",
    "  print(\"# '{}':\".format(field2str))\n",
    "  print(\"  . Most correlated unigrams:\\n. {}\".format('\\n. '.join(unigrams_1[-N:])))\n",
    "  print(\"  . Most correlated bigrams:\\n. {}\".format('\\n. '.join(bigrams_1[-N:])))"
   ]
  },
  {
   "cell_type": "code",
   "execution_count": 10,
   "id": "cbffcf30",
   "metadata": {},
   "outputs": [
    {
     "name": "stdout",
     "output_type": "stream",
     "text": [
      "(85066, 7624)\n"
     ]
    }
   ],
   "source": [
    "#Do same for pubjournal\n",
    "tfidf = TfidfVectorizer(sublinear_tf=True, min_df=5, norm='l2', encoding='latin-1', ngram_range=(1, 2), stop_words='english')\n",
    "features2 = tfidf.fit_transform(df.pubjournal).toarray()\n",
    "print(features2.shape)"
   ]
  },
  {
   "cell_type": "code",
   "execution_count": null,
   "id": "53439223",
   "metadata": {},
   "outputs": [],
   "source": [
    "#Do same for pubjournal\n",
    "from sklearn.feature_selection import chi2\n",
    "import numpy as np\n",
    "N = 2\n",
    "for field2str, category_id in sorted(category_to_id.items()):\n",
    "  features_chi2_2 = chi2(features2, labels == category_id)\n",
    "  indices_2 = np.argsort(features_chi2_2[0])\n",
    "  feature_names_2 = np.array(tfidf.get_feature_names_out())[indices_2]\n",
    "  unigrams_2 = [v for v in feature_names_2 if len(v.split(' ')) == 1]\n",
    "  bigrams_2 = [v for v in feature_names_2 if len(v.split(' ')) == 2]\n",
    "  print(\"# '{}':\".format(field2str))\n",
    "  print(\"  . Most correlated unigrams:\\n. {}\".format('\\n. '.join(unigrams_2[-N:])))\n",
    "  print(\"  . Most correlated bigrams:\\n. {}\".format('\\n. '.join(bigrams_2[-N:])))"
   ]
  },
  {
   "cell_type": "code",
   "execution_count": 11,
   "id": "1c2298c3",
   "metadata": {},
   "outputs": [
    {
     "data": {
      "text/plain": [
       "(85066, 28742)"
      ]
     },
     "execution_count": 11,
     "metadata": {},
     "output_type": "execute_result"
    }
   ],
   "source": [
    "#Creating one array for features\n",
    "features_final = np.concatenate((features1, features2), axis=1)\n",
    "features_final.shape"
   ]
  },
  {
   "cell_type": "code",
   "execution_count": 12,
   "id": "bd851aca",
   "metadata": {},
   "outputs": [],
   "source": [
    "# Multiclass\n",
    "#Naive Bayes Classifier (using only pubtitle)\n",
    "from sklearn.model_selection import train_test_split\n",
    "from sklearn.feature_extraction.text import CountVectorizer\n",
    "from sklearn.feature_extraction.text import TfidfTransformer\n",
    "from sklearn.naive_bayes import MultinomialNB\n",
    "X_train, X_test, y_train, y_test = train_test_split(df['pubtitle'], df['field2str'], random_state = 0)\n",
    "count_vect = CountVectorizer()\n",
    "X_train_counts = count_vect.fit_transform(X_train)\n",
    "tfidf_transformer = TfidfTransformer()\n",
    "X_train_tfidf = tfidf_transformer.fit_transform(X_train_counts)\n",
    "clf = MultinomialNB().fit(X_train_tfidf, y_train)"
   ]
  },
  {
   "cell_type": "code",
   "execution_count": 13,
   "id": "5b3d425a",
   "metadata": {},
   "outputs": [
    {
     "name": "stdout",
     "output_type": "stream",
     "text": [
      "['applied micro']\n",
      "['applied micro']\n",
      "['macroeconomics']\n"
     ]
    }
   ],
   "source": [
    "print(clf.predict(count_vect.transform([\"a regulatory policy strategy for protecting immigrant workers\"])))\n",
    "print(clf.predict(count_vect.transform([\"a relative question: the developing world is reevaluating what it means to be poor\"])))\n",
    "print(clf.predict(count_vect.transform([\"10 central bank independence: growing threats\"])))"
   ]
  },
  {
   "cell_type": "code",
   "execution_count": 14,
   "id": "348c85b4",
   "metadata": {},
   "outputs": [],
   "source": [
    "#Deleting previous files to deal with memory problems\n",
    "del df1\n",
    "del features1, features2"
   ]
  },
  {
   "cell_type": "code",
   "execution_count": null,
   "id": "a501179e",
   "metadata": {},
   "outputs": [],
   "source": [
    "from sklearn.linear_model import LogisticRegression\n",
    "from sklearn.ensemble import RandomForestClassifier\n",
    "from sklearn.svm import LinearSVC\n",
    "from sklearn.model_selection import cross_val_score\n",
    "from sklearn.naive_bayes import MultinomialNB\n",
    "models = [\n",
    "    RandomForestClassifier(n_estimators=200, max_depth=3, random_state=0),\n",
    "    LinearSVC(),\n",
    "    MultinomialNB(),\n",
    "   #LogisticRegression(random_state=0),\n",
    "]\n",
    "CV = 5\n",
    "cv_df = pd.DataFrame(index=range(CV * len(models)))\n",
    "entries = []\n",
    "for model in models:\n",
    "  model_name = model.__class__.__name__\n",
    "  accuracies = cross_val_score(model, features_final, labels, scoring='accuracy', cv=CV)\n",
    "  for fold_idx, accuracy in enumerate(accuracies):\n",
    "    entries.append((model_name, fold_idx, accuracy))\n",
    "cv_df = pd.DataFrame(entries, columns=['model_name', 'fold_idx', 'accuracy'])\n",
    "\n",
    "import seaborn as sns\n",
    "sns.boxplot(x='model_name', y='accuracy', data=cv_df)\n",
    "sns.stripplot(x='model_name', y='accuracy', data=cv_df, \n",
    "              size=8, jitter=True, edgecolor=\"gray\", linewidth=2)\n",
    "plt.show()"
   ]
  },
  {
   "cell_type": "code",
   "execution_count": null,
   "id": "38d61b59",
   "metadata": {},
   "outputs": [],
   "source": [
    "cv_df.groupby('model_name').accuracy.mean()"
   ]
  },
  {
   "cell_type": "code",
   "execution_count": 15,
   "id": "b4470dfa",
   "metadata": {},
   "outputs": [
    {
     "data": {
      "image/png": "[encoded data removed]",
      "text/plain": [
       "<Figure size 1000x1000 with 2 Axes>"
      ]
     },
     "metadata": {},
     "output_type": "display_data"
    }
   ],
   "source": [
    "#Using the best model\n",
    "from sklearn.svm import LinearSVC\n",
    "import seaborn as sns\n",
    "model = LinearSVC()\n",
    "X_train, X_test, y_train, y_test, indices_train, indices_test = train_test_split(features_final, labels, df.index, test_size=0.25, random_state=0)\n",
    "model.fit(X_train, y_train)\n",
    "y_pred = model.predict(X_test)\n",
    "from sklearn.metrics import confusion_matrix\n",
    "conf_mat = confusion_matrix(y_test, y_pred)\n",
    "fig, ax = plt.subplots(figsize=(10,10))\n",
    "sns.heatmap(conf_mat, annot=True, fmt='d',\n",
    "            xticklabels=category_id_df.field2str.values, yticklabels=category_id_df.field2str.values)\n",
    "plt.ylabel('Actual')\n",
    "plt.xlabel('Predicted')\n",
    "plt.show()"
   ]
  },
  {
   "cell_type": "code",
   "execution_count": null,
   "id": "4537f5e5",
   "metadata": {},
   "outputs": [],
   "source": [
    "from IPython.display import display\n",
    "for predicted in category_id_df.category_id:\n",
    "  for actual in category_id_df.category_id:\n",
    "    if predicted != actual and conf_mat[actual, predicted] >= 10:\n",
    "      print(\"'{}' predicted as '{}' : {} examples.\".format(id_to_category[actual], id_to_category[predicted], conf_mat[actual, predicted]))\n",
    "      display(df.loc[indices_test[(y_test == actual) & (y_pred == predicted)]])\n",
    "      print('')"
   ]
  },
  {
   "cell_type": "code",
   "execution_count": 16,
   "id": "b6a69639",
   "metadata": {},
   "outputs": [
    {
     "name": "stdout",
     "output_type": "stream",
     "text": [
      "              precision    recall  f1-score   support\n",
      "\n",
      "           0       0.53      0.33      0.41       882\n",
      "           1       0.75      0.84      0.80     11107\n",
      "           2       0.55      0.39      0.46      1551\n",
      "           3       0.66      0.66      0.66      5726\n",
      "           4       0.63      0.50      0.55      1154\n",
      "           5       0.50      0.30      0.38       847\n",
      "\n",
      "    accuracy                           0.70     21267\n",
      "   macro avg       0.60      0.50      0.54     21267\n",
      "weighted avg       0.69      0.70      0.69     21267\n",
      "\n"
     ]
    }
   ],
   "source": [
    "from sklearn import metrics\n",
    "print(metrics.classification_report(y_test, y_pred))"
   ]
  },
  {
   "cell_type": "code",
   "execution_count": 17,
   "id": "e0c1f5e8",
   "metadata": {},
   "outputs": [
    {
     "name": "stdout",
     "output_type": "stream",
     "text": [
      "(122901, 7)\n",
      "(61450, 7)\n"
     ]
    },
    {
     "data": {
      "text/html": [
       "<div>\n",
       "<style scoped>\n",
       "    .dataframe tbody tr th:only-of-type {\n",
       "        vertical-align: middle;\n",
       "    }\n",
       "\n",
       "    .dataframe tbody tr th {\n",
       "        vertical-align: top;\n",
       "    }\n",
       "\n",
       "    .dataframe thead th {\n",
       "        text-align: right;\n",
       "    }\n",
       "</style>\n",
       "<table border=\"1\" class=\"dataframe\">\n",
       "  <thead>\n",
       "    <tr style=\"text-align: right;\">\n",
       "      <th></th>\n",
       "      <th>pubyear</th>\n",
       "      <th>repec</th>\n",
       "      <th>field_cv</th>\n",
       "      <th>pubtitle</th>\n",
       "      <th>pubjournal</th>\n",
       "      <th>__000000</th>\n",
       "      <th>sample1</th>\n",
       "    </tr>\n",
       "  </thead>\n",
       "  <tbody>\n",
       "    <tr>\n",
       "      <th>117402</th>\n",
       "      <td>2008</td>\n",
       "      <td>pwi122</td>\n",
       "      <td>economics</td>\n",
       "      <td>a voluntary brain-drain tax</td>\n",
       "      <td>journal of public economics</td>\n",
       "      <td>0.195545</td>\n",
       "      <td>0.0</td>\n",
       "    </tr>\n",
       "    <tr>\n",
       "      <th>101842</th>\n",
       "      <td>2005</td>\n",
       "      <td>psh69</td>\n",
       "      <td>na</td>\n",
       "      <td>the life-cycle personal accounts proposal for ...</td>\n",
       "      <td>nber working papers</td>\n",
       "      <td>0.550872</td>\n",
       "      <td>NaN</td>\n",
       "    </tr>\n",
       "    <tr>\n",
       "      <th>22839</th>\n",
       "      <td>2010</td>\n",
       "      <td>pch902</td>\n",
       "      <td>economics</td>\n",
       "      <td>age at arrival, english proficiency, and socia...</td>\n",
       "      <td>american economic journal: applied economics</td>\n",
       "      <td>0.971690</td>\n",
       "      <td>NaN</td>\n",
       "    </tr>\n",
       "    <tr>\n",
       "      <th>29151</th>\n",
       "      <td>2011</td>\n",
       "      <td>pdr111</td>\n",
       "      <td>economics, business, and policy</td>\n",
       "      <td>data impediments to empirical work on health i...</td>\n",
       "      <td>the b.e. journal of economic analysis &amp; policy</td>\n",
       "      <td>0.118558</td>\n",
       "      <td>0.0</td>\n",
       "    </tr>\n",
       "    <tr>\n",
       "      <th>99253</th>\n",
       "      <td>2004</td>\n",
       "      <td>psc44</td>\n",
       "      <td>economics</td>\n",
       "      <td>optimal operational monetary policy in the chr...</td>\n",
       "      <td>cepr discussion papers</td>\n",
       "      <td>0.462522</td>\n",
       "      <td>0.0</td>\n",
       "    </tr>\n",
       "  </tbody>\n",
       "</table>\n",
       "</div>"
      ],
      "text/plain": [
       "       pubyear   repec                         field_cv  \\\n",
       "117402    2008  pwi122                        economics   \n",
       "101842    2005   psh69                               na   \n",
       "22839     2010  pch902                        economics   \n",
       "29151     2011  pdr111  economics, business, and policy   \n",
       "99253     2004   psc44                        economics   \n",
       "\n",
       "                                                 pubtitle  \\\n",
       "117402                        a voluntary brain-drain tax   \n",
       "101842  the life-cycle personal accounts proposal for ...   \n",
       "22839   age at arrival, english proficiency, and socia...   \n",
       "29151   data impediments to empirical work on health i...   \n",
       "99253   optimal operational monetary policy in the chr...   \n",
       "\n",
       "                                            pubjournal  __000000  sample1  \n",
       "117402                     journal of public economics  0.195545      0.0  \n",
       "101842                             nber working papers  0.550872      NaN  \n",
       "22839     american economic journal: applied economics  0.971690      NaN  \n",
       "29151   the b.e. journal of economic analysis & policy  0.118558      0.0  \n",
       "99253                           cepr discussion papers  0.462522      0.0  "
      ]
     },
     "execution_count": 17,
     "metadata": {},
     "output_type": "execute_result"
    }
   ],
   "source": [
    "df1 = pd.read_csv('C:/Users/melyg/Desktop/Networks/Data/fields_for_model_repec.csv')\n",
    "print(df1.shape)\n",
    "df2 = df1.sample(frac =.5)\n",
    "print(df2.shape)\n",
    "df2.head()"
   ]
  },
  {
   "cell_type": "code",
   "execution_count": 23,
   "id": "e4fb5bf8",
   "metadata": {},
   "outputs": [],
   "source": [
    "col = ['pubjournal', 'pubtitle']\n",
    "df2 = df2[col]\n",
    "df2 = df2[pd.notnull(df2['pubtitle'])] #removes null values\n",
    "df2 = df2[pd.notnull(df2['pubjournal'])] #removes null values"
   ]
  },
  {
   "cell_type": "code",
   "execution_count": 24,
   "id": "6c12dfa9",
   "metadata": {},
   "outputs": [
    {
     "name": "stdout",
     "output_type": "stream",
     "text": [
      "(61414, 2919)\n",
      "(61414, 16160)\n"
     ]
    }
   ],
   "source": [
    "tfidf = TfidfVectorizer(sublinear_tf=True, min_df=5, norm='l2', encoding='latin-1', ngram_range=(1, 2), stop_words='english')\n",
    "features3 = tfidf.fit_transform(df2.pubjournal).toarray()\n",
    "print(features3.shape)\n",
    "tfidf = TfidfVectorizer(sublinear_tf=True, min_df=5, norm='l2', encoding='latin-1', ngram_range=(1, 2), stop_words='english')\n",
    "features4 = tfidf.fit_transform(df2.pubtitle).toarray()\n",
    "print(features4.shape)"
   ]
  },
  {
   "cell_type": "code",
   "execution_count": 26,
   "id": "8639c369",
   "metadata": {},
   "outputs": [
    {
     "data": {
      "text/plain": [
       "(61414, 19079)"
      ]
     },
     "execution_count": 26,
     "metadata": {},
     "output_type": "execute_result"
    }
   ],
   "source": [
    "del features_final\n",
    "features_final = np.concatenate((features3, features4), axis=1)\n",
    "features_final.shape"
   ]
  },
  {
   "cell_type": "code",
   "execution_count": 27,
   "id": "21a48e7b",
   "metadata": {},
   "outputs": [
    {
     "ename": "ValueError",
     "evalue": "X has 19079 features, but LinearSVC is expecting 28742 features as input.",
     "output_type": "error",
     "traceback": [
      "\u001b[1;31m---------------------------------------------------------------------------\u001b[0m",
      "\u001b[1;31mValueError\u001b[0m                                Traceback (most recent call last)",
      "\u001b[1;32m~\\AppData\\Local\\Temp\\ipykernel_5020\\3261599694.py\u001b[0m in \u001b[0;36m<module>\u001b[1;34m\u001b[0m\n\u001b[1;32m----> 1\u001b[1;33m \u001b[0my_pred_miss\u001b[0m \u001b[1;33m=\u001b[0m \u001b[0mmodel\u001b[0m\u001b[1;33m.\u001b[0m\u001b[0mpredict\u001b[0m\u001b[1;33m(\u001b[0m\u001b[0mfeatures_final\u001b[0m\u001b[1;33m)\u001b[0m\u001b[1;33m\u001b[0m\u001b[1;33m\u001b[0m\u001b[0m\n\u001b[0m",
      "\u001b[1;32mc:\\users\\melyg\\desktop\\python_env\\python_fieldsgs\\lib\\site-packages\\sklearn\\linear_model\\_base.py\u001b[0m in \u001b[0;36mpredict\u001b[1;34m(self, X)\u001b[0m\n\u001b[0;32m    423\u001b[0m             \u001b[0mVector\u001b[0m \u001b[0mcontaining\u001b[0m \u001b[0mthe\u001b[0m \u001b[1;32mclass\u001b[0m \u001b[0mlabels\u001b[0m \u001b[1;32mfor\u001b[0m \u001b[0meach\u001b[0m \u001b[0msample\u001b[0m\u001b[1;33m.\u001b[0m\u001b[1;33m\u001b[0m\u001b[1;33m\u001b[0m\u001b[0m\n\u001b[0;32m    424\u001b[0m         \"\"\"\n\u001b[1;32m--> 425\u001b[1;33m         \u001b[0mscores\u001b[0m \u001b[1;33m=\u001b[0m \u001b[0mself\u001b[0m\u001b[1;33m.\u001b[0m\u001b[0mdecision_function\u001b[0m\u001b[1;33m(\u001b[0m\u001b[0mX\u001b[0m\u001b[1;33m)\u001b[0m\u001b[1;33m\u001b[0m\u001b[1;33m\u001b[0m\u001b[0m\n\u001b[0m\u001b[0;32m    426\u001b[0m         \u001b[1;32mif\u001b[0m \u001b[0mlen\u001b[0m\u001b[1;33m(\u001b[0m\u001b[0mscores\u001b[0m\u001b[1;33m.\u001b[0m\u001b[0mshape\u001b[0m\u001b[1;33m)\u001b[0m \u001b[1;33m==\u001b[0m \u001b[1;36m1\u001b[0m\u001b[1;33m:\u001b[0m\u001b[1;33m\u001b[0m\u001b[1;33m\u001b[0m\u001b[0m\n\u001b[0;32m    427\u001b[0m             \u001b[0mindices\u001b[0m \u001b[1;33m=\u001b[0m \u001b[1;33m(\u001b[0m\u001b[0mscores\u001b[0m \u001b[1;33m>\u001b[0m \u001b[1;36m0\u001b[0m\u001b[1;33m)\u001b[0m\u001b[1;33m.\u001b[0m\u001b[0mastype\u001b[0m\u001b[1;33m(\u001b[0m\u001b[0mint\u001b[0m\u001b[1;33m)\u001b[0m\u001b[1;33m\u001b[0m\u001b[1;33m\u001b[0m\u001b[0m\n",
      "\u001b[1;32mc:\\users\\melyg\\desktop\\python_env\\python_fieldsgs\\lib\\site-packages\\sklearn\\linear_model\\_base.py\u001b[0m in \u001b[0;36mdecision_function\u001b[1;34m(self, X)\u001b[0m\n\u001b[0;32m    405\u001b[0m         \u001b[0mcheck_is_fitted\u001b[0m\u001b[1;33m(\u001b[0m\u001b[0mself\u001b[0m\u001b[1;33m)\u001b[0m\u001b[1;33m\u001b[0m\u001b[1;33m\u001b[0m\u001b[0m\n\u001b[0;32m    406\u001b[0m \u001b[1;33m\u001b[0m\u001b[0m\n\u001b[1;32m--> 407\u001b[1;33m         \u001b[0mX\u001b[0m \u001b[1;33m=\u001b[0m \u001b[0mself\u001b[0m\u001b[1;33m.\u001b[0m\u001b[0m_validate_data\u001b[0m\u001b[1;33m(\u001b[0m\u001b[0mX\u001b[0m\u001b[1;33m,\u001b[0m \u001b[0maccept_sparse\u001b[0m\u001b[1;33m=\u001b[0m\u001b[1;34m\"csr\"\u001b[0m\u001b[1;33m,\u001b[0m \u001b[0mreset\u001b[0m\u001b[1;33m=\u001b[0m\u001b[1;32mFalse\u001b[0m\u001b[1;33m)\u001b[0m\u001b[1;33m\u001b[0m\u001b[1;33m\u001b[0m\u001b[0m\n\u001b[0m\u001b[0;32m    408\u001b[0m         \u001b[0mscores\u001b[0m \u001b[1;33m=\u001b[0m \u001b[0msafe_sparse_dot\u001b[0m\u001b[1;33m(\u001b[0m\u001b[0mX\u001b[0m\u001b[1;33m,\u001b[0m \u001b[0mself\u001b[0m\u001b[1;33m.\u001b[0m\u001b[0mcoef_\u001b[0m\u001b[1;33m.\u001b[0m\u001b[0mT\u001b[0m\u001b[1;33m,\u001b[0m \u001b[0mdense_output\u001b[0m\u001b[1;33m=\u001b[0m\u001b[1;32mTrue\u001b[0m\u001b[1;33m)\u001b[0m \u001b[1;33m+\u001b[0m \u001b[0mself\u001b[0m\u001b[1;33m.\u001b[0m\u001b[0mintercept_\u001b[0m\u001b[1;33m\u001b[0m\u001b[1;33m\u001b[0m\u001b[0m\n\u001b[0;32m    409\u001b[0m         \u001b[1;32mreturn\u001b[0m \u001b[0mscores\u001b[0m\u001b[1;33m.\u001b[0m\u001b[0mravel\u001b[0m\u001b[1;33m(\u001b[0m\u001b[1;33m)\u001b[0m \u001b[1;32mif\u001b[0m \u001b[0mscores\u001b[0m\u001b[1;33m.\u001b[0m\u001b[0mshape\u001b[0m\u001b[1;33m[\u001b[0m\u001b[1;36m1\u001b[0m\u001b[1;33m]\u001b[0m \u001b[1;33m==\u001b[0m \u001b[1;36m1\u001b[0m \u001b[1;32melse\u001b[0m \u001b[0mscores\u001b[0m\u001b[1;33m\u001b[0m\u001b[1;33m\u001b[0m\u001b[0m\n",
      "\u001b[1;32mc:\\users\\melyg\\desktop\\python_env\\python_fieldsgs\\lib\\site-packages\\sklearn\\base.py\u001b[0m in \u001b[0;36m_validate_data\u001b[1;34m(self, X, y, reset, validate_separately, **check_params)\u001b[0m\n\u001b[0;32m    583\u001b[0m \u001b[1;33m\u001b[0m\u001b[0m\n\u001b[0;32m    584\u001b[0m         \u001b[1;32mif\u001b[0m \u001b[1;32mnot\u001b[0m \u001b[0mno_val_X\u001b[0m \u001b[1;32mand\u001b[0m \u001b[0mcheck_params\u001b[0m\u001b[1;33m.\u001b[0m\u001b[0mget\u001b[0m\u001b[1;33m(\u001b[0m\u001b[1;34m\"ensure_2d\"\u001b[0m\u001b[1;33m,\u001b[0m \u001b[1;32mTrue\u001b[0m\u001b[1;33m)\u001b[0m\u001b[1;33m:\u001b[0m\u001b[1;33m\u001b[0m\u001b[1;33m\u001b[0m\u001b[0m\n\u001b[1;32m--> 585\u001b[1;33m             \u001b[0mself\u001b[0m\u001b[1;33m.\u001b[0m\u001b[0m_check_n_features\u001b[0m\u001b[1;33m(\u001b[0m\u001b[0mX\u001b[0m\u001b[1;33m,\u001b[0m \u001b[0mreset\u001b[0m\u001b[1;33m=\u001b[0m\u001b[0mreset\u001b[0m\u001b[1;33m)\u001b[0m\u001b[1;33m\u001b[0m\u001b[1;33m\u001b[0m\u001b[0m\n\u001b[0m\u001b[0;32m    586\u001b[0m \u001b[1;33m\u001b[0m\u001b[0m\n\u001b[0;32m    587\u001b[0m         \u001b[1;32mreturn\u001b[0m \u001b[0mout\u001b[0m\u001b[1;33m\u001b[0m\u001b[1;33m\u001b[0m\u001b[0m\n",
      "\u001b[1;32mc:\\users\\melyg\\desktop\\python_env\\python_fieldsgs\\lib\\site-packages\\sklearn\\base.py\u001b[0m in \u001b[0;36m_check_n_features\u001b[1;34m(self, X, reset)\u001b[0m\n\u001b[0;32m    399\u001b[0m         \u001b[1;32mif\u001b[0m \u001b[0mn_features\u001b[0m \u001b[1;33m!=\u001b[0m \u001b[0mself\u001b[0m\u001b[1;33m.\u001b[0m\u001b[0mn_features_in_\u001b[0m\u001b[1;33m:\u001b[0m\u001b[1;33m\u001b[0m\u001b[1;33m\u001b[0m\u001b[0m\n\u001b[0;32m    400\u001b[0m             raise ValueError(\n\u001b[1;32m--> 401\u001b[1;33m                 \u001b[1;34mf\"X has {n_features} features, but {self.__class__.__name__} \"\u001b[0m\u001b[1;33m\u001b[0m\u001b[1;33m\u001b[0m\u001b[0m\n\u001b[0m\u001b[0;32m    402\u001b[0m                 \u001b[1;34mf\"is expecting {self.n_features_in_} features as input.\"\u001b[0m\u001b[1;33m\u001b[0m\u001b[1;33m\u001b[0m\u001b[0m\n\u001b[0;32m    403\u001b[0m             )\n",
      "\u001b[1;31mValueError\u001b[0m: X has 19079 features, but LinearSVC is expecting 28742 features as input."
     ]
    }
   ],
   "source": [
    "y_pred_miss = model.predict(features_final)"
   ]
  }
 ],
 "metadata": {
  "kernelspec": {
   "display_name": "fieldsgs",
   "language": "python",
   "name": "fieldsgs"
  },
  "language_info": {
   "codemirror_mode": {
    "name": "ipython",
    "version": 3
   },
   "file_extension": ".py",
   "mimetype": "text/x-python",
   "name": "python",
   "nbconvert_exporter": "python",
   "pygments_lexer": "ipython3",
   "version": "3.7.9"
  }
 },
 "nbformat": 4,
 "nbformat_minor": 5
}
